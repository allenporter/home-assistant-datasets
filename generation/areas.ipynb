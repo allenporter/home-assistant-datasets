{
 "cells": [
  {
   "cell_type": "markdown",
   "metadata": {},
   "source": [
    "# Synthetic Areas"
   ]
  },
  {
   "cell_type": "markdown",
   "metadata": {},
   "source": [
    "## Model Client"
   ]
  },
  {
   "cell_type": "code",
   "execution_count": 4,
   "metadata": {},
   "outputs": [],
   "source": [
    "import openai\n",
    "import google.generativeai as genai\n",
    "\n",
    "from home_assistant_datasets import secrets\n",
    "from home_assistant_datasets import model_client\n",
    "\n",
    "secrets.DEFAULT_SECRETS_FILE = \"../secrets.yaml\"\n",
    "\n",
    "# MODEL_ID = \"gpt-3.5-turbo-0125\"\n",
    "\n",
    "# openai = openai.OpenAI(api_key=get_secret(\"openai_key\"))\n",
    "# model = model_client.ModelClient(openai, MODEL_ID)\n",
    "\n",
    "# Gemini flash is higher quality and cheaper model than the GPT alternatives.\n",
    "MODEL_ID = \"gemini-1.5-flash\"\n",
    "genai.configure(api_key=secrets.get_secret(\"google_api_key\"))\n",
    "model = model_client.GoogleClient(MODEL_ID)"
   ]
  },
  {
   "cell_type": "markdown",
   "metadata": {},
   "source": [
    "# Read seed data used in the prompt\n",
    "\n",
    "The seed data for the prompt is manually curated to use as examples for further synthetic data generation."
   ]
  },
  {
   "cell_type": "code",
   "execution_count": 9,
   "metadata": {},
   "outputs": [],
   "source": [
    "import pathlib\n",
    "import yaml\n",
    "\n",
    "SEEDS_DIR = pathlib.Path(\"./seeds/\")\n",
    "HOME_AREAS_FILE = SEEDS_DIR / \"areas.yaml\"\n",
    "\n",
    "with open(HOME_AREAS_FILE) as f:\n",
    "    seed_areas = list(yaml.load_all(f.read(), Loader=yaml.Loader))"
   ]
  },
  {
   "cell_type": "code",
   "execution_count": 10,
   "metadata": {},
   "outputs": [],
   "source": [
    "AREA_PROMPT_FORMAT = \"\"\"\n",
    "Input:\n",
    "{home}\n",
    "Output:\n",
    "{areas}\n",
    "\"\"\"\n",
    "\n",
    "item = []\n",
    "for seed in seed_areas:\n",
    "    home = yaml.dump(seed[\"home\"], sort_keys=False)\n",
    "    areas = yaml.dump(seed[\"areas\"], sort_keys=False)\n",
    "    item.append(AREA_PROMPT_FORMAT.format(home=home, areas=areas))\n",
    "\n",
    "seed_area_prompt = \"\\n\".join(item)"
   ]
  },
  {
   "cell_type": "markdown",
   "metadata": {},
   "source": [
    "## Generate Areas and devices"
   ]
  },
  {
   "cell_type": "code",
   "execution_count": null,
   "metadata": {},
   "outputs": [],
   "source": [
    "AREA_DEVICES_PROMPT = f\"\"\"\n",
    "You are generating synthetic data to used to train models for Home Assistant\n",
    "and used to evaluate things like generating a summary, performing home automation\n",
    "actions, or for generating other synthetic data.\n",
    "\n",
    "You use your knowledge about the world to generate details about homes that\n",
    "can be used for synthetic smart home automation data. For example, an apartment\n",
    "may have a smart thermostat, a house may have a smart garage door opener or\n",
    "smart lock and camera, and all houses may have a smart light or weather feed\n",
    "air quality, or a smart speaker or television. The needs of a home owner\n",
    "may vary if they are a single person or family, or where in the world they\n",
    "live. For example, a high rise apartment probably does not have a backyard.\n",
    "\n",
    "Do not be cliche. Do not assume every home has a smart watch. Don't assume\n",
    "every room has a smart light just because it is listed, but of course many will.\n",
    "\n",
    "Below are example inputs and outputs for generating areas and devices for a home,\n",
    "thinking step by step about the needs of the home.\n",
    "\n",
    "{seed_area_prompt}\n",
    "\"\"\""
   ]
  },
  {
   "cell_type": "code",
   "execution_count": 15,
   "metadata": {},
   "outputs": [
    {
     "name": "stderr",
     "output_type": "stream",
     "text": [
      "Skipped 0: 100%|██████████| 40/40 [00:18<00:00,  2.14it/s]\n"
     ]
    }
   ],
   "source": [
    "from tqdm.auto import tqdm\n",
    "from typing import Any\n",
    "import itertools\n",
    "\n",
    "import yaml\n",
    "import pathlib\n",
    "import random\n",
    "import shutil\n",
    "import slugify\n",
    "\n",
    "# How many samples to generate\n",
    "N_DATAPOINTS = 40\n",
    "\n",
    "DATASET_DIR = pathlib.Path(\"../datasets/\")\n",
    "AREAS_OUTPUT_DIR = DATASET_DIR / \"areas-v2\"\n",
    "\n",
    "# Wipe existing areas\n",
    "shutil.rmtree(AREAS_OUTPUT_DIR, ignore_errors=True)\n",
    "AREAS_OUTPUT_DIR.mkdir(exist_ok=True)\n",
    "\n",
    "with open(DATASET_DIR / \"homes.yaml\", \"r\") as f:\n",
    "    content = f.read()\n",
    "\n",
    "data = yaml.safe_load(content)\n",
    "homes = data[\"homes\"]\n",
    "random.shuffle(homes)\n",
    "\n",
    "if len(homes) > N_DATAPOINTS:\n",
    "    homes = homes[:N_DATAPOINTS]\n",
    "\n",
    "\n",
    "home_ids = {}\n",
    "def generate_home_id(home: dict[str, Any]) -> str:\n",
    "    \"\"\"Generate a new home id\"\"\"\n",
    "    home_id = slugify.slugify(\n",
    "        \"-\".join([\n",
    "            home[\"name\"],\n",
    "            home[\"country_code\"]\n",
    "        ])\n",
    "    )\n",
    "    if home_id in home_ids:\n",
    "        home_ids[home_id] += 1\n",
    "        home_id = f\"{home_id}-{home_ids[home_id]}\"\n",
    "    else:\n",
    "        home_ids[home_id] = 0\n",
    "    return home_id\n",
    "\n",
    "skipped = 0\n",
    "with tqdm(total=len(homes)) as pbar:\n",
    "    for home in homes:\n",
    "        home_id = generate_home_id(home)\n",
    "\n",
    "        with open(AREAS_OUTPUT_DIR / f\"{home_id}.yaml\", \"w\") as area_output:\n",
    "            batch_yaml = yaml.dump(home, explicit_start=True, sort_keys=False)\n",
    "            response_obj = None\n",
    "            for i in range(0, 3):\n",
    "                response = model.complete(AREA_DEVICES_PROMPT, batch_yaml)\n",
    "                try:\n",
    "                    response_obj = yaml.safe_load(response)\n",
    "                    areas = response_obj.get(\"Output\")\n",
    "                    break\n",
    "                except yaml.YAMLError as exc:\n",
    "                    continue\n",
    "\n",
    "            if response_obj is not None:\n",
    "                updated_home = home.copy()\n",
    "                updated_home.update({\"areas\": areas})\n",
    "                area_output.write(yaml.dump(updated_home, explicit_start=True, sort_keys=False))\n",
    "            pbar.set_description(f\"Skipped {skipped}\")\n",
    "            pbar.update(1)\n"
   ]
  },
  {
   "cell_type": "markdown",
   "metadata": {},
   "source": [
    "## Data Distributions\n",
    "\n",
    "Validate the data and look at the generated data distributions. This gives us a chance to hand fix any individual\n",
    "bad records as well."
   ]
  },
  {
   "cell_type": "code",
   "execution_count": 16,
   "metadata": {},
   "outputs": [
    {
     "name": "stdout",
     "output_type": "stream",
     "text": [
      "Total homes: 40\n",
      "Total areas: 312 (average 7.80 per home)\n",
      "Total unique areas: 112\n",
      "Areas:\n"
     ]
    },
    {
     "data": {
      "text/plain": [
       "[('Living Room', '31 78% 10%'),\n",
       " ('Bedroom', '30 75% 10%'),\n",
       " ('Kitchen', '25 62% 8%'),\n",
       " ('Guest Bedroom', '19 48% 6%'),\n",
       " ('Bathroom', '17 42% 5%'),\n",
       " ('Master Bedroom', '14 35% 4%'),\n",
       " ('Balcony', '11 28% 4%'),\n",
       " ('Dining Room', '7 18% 2%'),\n",
       " ('Backyard', '7 18% 2%'),\n",
       " ('Garden', '6 15% 2%'),\n",
       " ('Rooftop Terrace', '5 12% 2%'),\n",
       " ('Garage', '4 10% 1%'),\n",
       " ('Front Porch', '4 10% 1%'),\n",
       " ('Bedroom 2', '4 10% 1%'),\n",
       " ('Barn', '4 10% 1%')]"
      ]
     },
     "execution_count": 16,
     "metadata": {},
     "output_type": "execute_result"
    }
   ],
   "source": [
    "from operator import itemgetter\n",
    "\n",
    "homes = []\n",
    "for path in AREAS_OUTPUT_DIR.glob(\"*.yaml\"):\n",
    "    with path.open(\"r\") as f:\n",
    "        content = f.read()\n",
    "    homes.append(yaml.load(content, Loader=yaml.Loader))\n",
    "\n",
    "devices_counts =  {}\n",
    "total_homes = len(homes)\n",
    "area_names_count = {}\n",
    "total_areas = 0\n",
    "for home in homes:\n",
    "    areas = home[\"areas\"]\n",
    "    for area in areas:\n",
    "        total_areas += 1\n",
    "        area_names_count[area] = area_names_count.get(area, 0) + 1\n",
    "\n",
    "print(f\"Total homes: {total_homes}\")\n",
    "print(f\"Total areas: {total_areas} (average {total_areas / total_homes:0.2f} per home)\")\n",
    "print(f\"Total unique areas: {len(area_names_count)}\")\n",
    "\n",
    "sorted_dict = dict(sorted(area_names_count.items(), key=itemgetter(1), reverse=True))\n",
    "areas_rank = [ (k, f\"{v} {(v / total_homes)*100:.0f}% {(v / total_areas)*100:.0f}%\") for k, v in itertools.islice(sorted_dict.items(), 15) ]\n",
    "\n",
    "print(f\"Areas:\")\n",
    "areas_rank"
   ]
  }
 ],
 "metadata": {
  "kernelspec": {
   "display_name": "venv",
   "language": "python",
   "name": "python3"
  },
  "language_info": {
   "codemirror_mode": {
    "name": "ipython",
    "version": 3
   },
   "file_extension": ".py",
   "mimetype": "text/x-python",
   "name": "python",
   "nbconvert_exporter": "python",
   "pygments_lexer": "ipython3",
   "version": "3.12.2"
  }
 },
 "nbformat": 4,
 "nbformat_minor": 2
}
